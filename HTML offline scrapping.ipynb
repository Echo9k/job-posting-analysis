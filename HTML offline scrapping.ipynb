{
  "nbformat": 4,
  "nbformat_minor": 0,
  "metadata": {
    "colab": {
      "name": "WebScrapping - Extracting Text from offline Job Postings.ipynb",
      "provenance": [],
      "collapsed_sections": [
        "CGm4Cn6pI4km",
        "aysILcBsQA9h"
      ],
      "toc_visible": true,
      "mount_file_id": "1MOouqM5lgXiUSsmwqnKINya6KmTttnLJ",
      "authorship_tag": "ABX9TyPM6nFK3nq8V6nXWyFFMzYS",
      "include_colab_link": true
    },
    "kernelspec": {
      "name": "python3",
      "display_name": "Python 3"
    }
  },
  "cells": [
    {
      "cell_type": "markdown",
      "metadata": {
        "id": "view-in-github",
        "colab_type": "text"
      },
      "source": [
        "<a href=\"https://colab.research.google.com/github/Echo9k/job-posting-analysis/blob/master/HTML%20offline%20scrapping.ipynb\" target=\"_parent\"><img src=\"https://colab.research.google.com/assets/colab-badge.svg\" alt=\"Open In Colab\"/></a>"
      ]
    },
    {
      "cell_type": "code",
      "metadata": {
        "id": "CNcd4yev3B8q",
        "colab_type": "code",
        "colab": {
          "base_uri": "https://localhost:8080/",
          "height": 33
        },
        "cellView": "form",
        "outputId": "b3931e5d-a860-412d-ce37-e7d1f9e02d5b"
      },
      "source": [
        "#@title Set up\n",
        "#@markdown List of html filenames: **html_files**\n",
        "import os\n",
        "import re\n",
        "import codecs\n",
        "import requests\n",
        "\n",
        "import pandas as pd\n",
        "\n",
        "from bs4 import BeautifulSoup as bs\n",
        "\n",
        "from tqdm import tqdm\n",
        "from IPython.core.display import display, HTML\n",
        "from requests.exceptions import HTTPError\n",
        "\n",
        "!rm sample_data -r\n",
        "directory = '/content/drive/My Drive/html_job_postings/'\n",
        "html_files = next(os.walk(directory))[2]"
      ],
      "execution_count": 6,
      "outputs": [
        {
          "output_type": "stream",
          "text": [
            "rm: cannot remove 'sample_data': No such file or directory\n"
          ],
          "name": "stdout"
        }
      ]
    },
    {
      "cell_type": "markdown",
      "metadata": {
        "id": "3j4CU8WV4Bui",
        "colab_type": "text"
      },
      "source": [
        "# Downloading and Parsing Online Data"
      ]
    },
    {
      "cell_type": "markdown",
      "metadata": {
        "id": "Vh5S0FmfQtgm",
        "colab_type": "text"
      },
      "source": [
        "## Retrive data"
      ]
    },
    {
      "cell_type": "code",
      "metadata": {
        "id": "CYtZHFVG4Jtm",
        "colab_type": "code",
        "colab": {
          "base_uri": "https://localhost:8080/",
          "height": 104
        },
        "cellView": "form",
        "outputId": "07f63a2b-e3d9-4154-f63b-6696316a4c73"
      },
      "source": [
        "#@title ### Testing connection\n",
        "\n",
        "#@markdown For known sources and single HTML pages:\n",
        "\n",
        "url = \"https://api.github.com/\" #@param [\"https://api.github.com/\", \"http://www.python.org/\", \"https://techdevguide.withgoogle.com/\"]\n",
        "from urllib.request import urlopen\n",
        "\n",
        "html_contents = urlopen(url).read()\n",
        "\n",
        "display(requests.get('https://api.github.com'))\n",
        "display(html_contents)\n",
        "\n",
        "r = requests.get(url)\n",
        "html_contents = r.text\n",
        "for url in [url, url+'/invalid/']:\n",
        "    try:\n",
        "        response = requests.get(url)\n",
        "\n",
        "        # If the response was successful, no Exception will be raised\n",
        "        response.raise_for_status()\n",
        "    except HTTPError as http_err:\n",
        "        print(f'HTTP error occurred: {http_err}')  # Python 3.6\n",
        "    except Exception as err:\n",
        "        print(f'Other error occurred: {err}')  # Python 3.6\n",
        "    else:\n",
        "        print('Success!')"
      ],
      "execution_count": 7,
      "outputs": [
        {
          "output_type": "display_data",
          "data": {
            "text/plain": [
              "<Response [200]>"
            ]
          },
          "metadata": {
            "tags": []
          }
        },
        {
          "output_type": "display_data",
          "data": {
            "text/plain": [
              "b'{\"current_user_url\":\"https://api.github.com/user\",\"current_user_authorizations_html_url\":\"https://github.com/settings/connections/applications{/client_id}\",\"authorizations_url\":\"https://api.github.com/authorizations\",\"code_search_url\":\"https://api.github.com/search/code?q={query}{&page,per_page,sort,order}\",\"commit_search_url\":\"https://api.github.com/search/commits?q={query}{&page,per_page,sort,order}\",\"emails_url\":\"https://api.github.com/user/emails\",\"emojis_url\":\"https://api.github.com/emojis\",\"events_url\":\"https://api.github.com/events\",\"feeds_url\":\"https://api.github.com/feeds\",\"followers_url\":\"https://api.github.com/user/followers\",\"following_url\":\"https://api.github.com/user/following{/target}\",\"gists_url\":\"https://api.github.com/gists{/gist_id}\",\"hub_url\":\"https://api.github.com/hub\",\"issue_search_url\":\"https://api.github.com/search/issues?q={query}{&page,per_page,sort,order}\",\"issues_url\":\"https://api.github.com/issues\",\"keys_url\":\"https://api.github.com/user/keys\",\"label_search_url\":\"https://api.github.com/search/labels?q={query}&repository_id={repository_id}{&page,per_page}\",\"notifications_url\":\"https://api.github.com/notifications\",\"organization_url\":\"https://api.github.com/orgs/{org}\",\"organization_repositories_url\":\"https://api.github.com/orgs/{org}/repos{?type,page,per_page,sort}\",\"organization_teams_url\":\"https://api.github.com/orgs/{org}/teams\",\"public_gists_url\":\"https://api.github.com/gists/public\",\"rate_limit_url\":\"https://api.github.com/rate_limit\",\"repository_url\":\"https://api.github.com/repos/{owner}/{repo}\",\"repository_search_url\":\"https://api.github.com/search/repositories?q={query}{&page,per_page,sort,order}\",\"current_user_repositories_url\":\"https://api.github.com/user/repos{?type,page,per_page,sort}\",\"starred_url\":\"https://api.github.com/user/starred{/owner}{/repo}\",\"starred_gists_url\":\"https://api.github.com/gists/starred\",\"user_url\":\"https://api.github.com/users/{user}\",\"user_organizations_url\":\"https://api.github.com/user/orgs\",\"user_repositories_url\":\"https://api.github.com/users/{user}/repos{?type,page,per_page,sort}\",\"user_search_url\":\"https://api.github.com/search/users?q={query}{&page,per_page,sort,order}\"}'"
            ]
          },
          "metadata": {
            "tags": []
          }
        },
        {
          "output_type": "stream",
          "text": [
            "Success!\n",
            "HTTP error occurred: 404 Client Error: Not Found for url: https://api.github.com//invalid/\n"
          ],
          "name": "stdout"
        }
      ]
    },
    {
      "cell_type": "markdown",
      "metadata": {
        "id": "AmRumU9TO5Qo",
        "colab_type": "text"
      },
      "source": [
        "## Getting a sense of the data"
      ]
    },
    {
      "cell_type": "code",
      "metadata": {
        "id": "kzbGjYvTe8Fl",
        "colab_type": "code",
        "colab": {
          "base_uri": "https://localhost:8080/",
          "height": 87
        },
        "cellView": "form",
        "outputId": "e809e424-cce4-44c6-cb9f-574af990d8d3"
      },
      "source": [
        "#@title read files to dir: html_dir\n",
        "beautify = True #@param {type:\"boolean\"}\n",
        "prettyfy = True #@param {type:\"boolean\"}\n",
        "\n",
        "#@title Functions defined\n",
        "def file_reader(file_name, subfolder='./'):\n",
        "    with open(subfolder+file_name, \"r\") as f:\n",
        "        return f.read()\n",
        "\n",
        "render = lambda html_contents: display(HTML(html_contents))\n",
        "\n",
        "\n",
        "html_dir = {}\n",
        "\n",
        "for i in tqdm(html_files):\n",
        "    key = i.replace('.html','').replace(' ', '_')\n",
        "    value = file_reader(i, directory)\n",
        "    if beautify:\n",
        "        html_dir[key]=bs(value)\n",
        "        if prettyfy:\n",
        "            html_dir[key].prettify()\n",
        "    else:\n",
        "        html_dir[key]=value\n",
        "#@markdown HTML files parsed to: html_dir\n",
        "print(f\"\\n'html_dir':\"\n",
        "      f\"\\tkeys : {list(html_dir.keys())}\")"
      ],
      "execution_count": 8,
      "outputs": [
        {
          "output_type": "stream",
          "text": [
            "100%|██████████| 1337/1337 [00:04<00:00, 313.72it/s]"
          ],
          "name": "stderr"
        },
        {
          "output_type": "stream",
          "text": [
            "\n",
            "'html_dir':\tkeys : ['77db13653acd38ec_fccid', '206ca14924ada590_fccid', '7a38c671a8ab6ccc_fccid', '8707c2ca919bba90_fccid', '1d938e69ee26dcab_fccid', '40d84746953486e1_fccid', '96c1b9e6f16c5d26_fccid', '4872a34a5dfdd332_fccid', '28c58e220f123695_fccid', '6723789ff541c8cf_fccid', '96cbe36bb86669af_fccid', '7a5337baf7235d76_fccid', '2bc3ec6e761963c0_fccid', 'b02aa271d2af7c26_fccid', '21091c4562d65586_fccid', '9260ae3565157b27_fccid', '428c84d73ad82e6d_fccid', '5b8e1f0e1f1f44d9_fccid', 'd7adfc46261ccdb3_fccid', 'f9ee01df580ba190_fccid', 'ba0fb38226f4d165_fccid', '659d53c7c386050f_fccid', 'b521d8275ab3eaae_fccid', '0bb8446d7e591e7c_fccid', 'f3b15a08db5ab069_fccid', 'f85ad23d857625d4_fccid', 'f8afd87cb9e11776_fccid', '74d64b882f79a0bd_fccid', '11513c8993b7cf2c_fccid', 'dd862b8711306a3b_fccid', '2419746e43442672_fccid', 'c5f6aa5216291758_fccid', 'd7a37a1c860ae69f_fccid', '9c561782a3045c1d_fccid', '174b6359679e8428_fccid', '76c76e140bffad11_fccid', 'bfdbc9e51b1e2f04_fccid', '4e10553b3a9bf947_fccid', 'f7d4e48c63a6dc64_fccid', 'f39bcb7aa9336dd9_fccid', 'af76c6c91578d660_fccid', 'a9fbe82762e4fa17_fccid', '4f11cd650726bb7c_fccid', '4fdd7c1865ce0893_fccid', '5ce16ea2c3688eb1_fccid', '457f57b9e29944a9_fccid', '42bbb1e4b7cacd9d_fccid', '44421c41bfc8b596_fccid', '463cd0b59d040479_fccid', 'ad0baa65043f91e5_fccid', '527691c3a164f154_fccid', '6dfc167b60dc7bd9_fccid', '4a43e4f0eb37cf90_fccid', '0df9ee27efa14ca0_fccid', '37059acb7f05438b_fccid', 'e15817b0b1cfd07f_fccid', '2b937acb6b86aa7f_fccid', '715e8ec6a444f739_fccid', '82dee07f1995769c_fccid', '330b141dd736d18b_fccid', '644853a97d3714fb_fccid', '48db7666d0ca9e36_fccid', '7ebdbbca83161bb3_fccid', 'de57f2bde10d5b69_fccid', 'ab0dff81397ef1d4_fccid', 'bbb1ae6d816f075f_fccid', 'af1781203b23ebfa_fccid', '56a6f4598dd4f43f_fccid', '7871129a58dafef3_fccid', 'ab4b358ccf594831_fccid', 'df693596e95a6346_fccid', '1123f77d78515d01_fccid', '6c4a5b5a26551f74_fccid', '666d7251f000535a_fccid', '4e8cd8d5ee4cf995_fccid', '31b070f3da99e627_fccid', '1c30856963b47a64_fccid', '16b0b64f107e8e9d_fccid', 'a504cad692be9d81_fccid', 'f1e4d7c8273edb9d_fccid', 'fcc2e7e073797acc_fccid', '23c29ef4ed6765d9_fccid', '1ce380781add687e_fccid', '477cc9312aaa6dd7_fccid', 'f8da4a8df0df73dc_fccid', 'dab7bc34b592f4bb_fccid', '14a59bf4f1f9e350_fccid', 'b411bcae3cdcb132_fccid', '94ae6fa4bc90abbf_fccid', '1c037b02f22d94db_fccid', 'dd2220438246e865_fccid', '1c61a9e892e12f82_fccid', '1bc8870fb84cc215_fccid', '17ae6c4b97b2c8b4_fccid', '1b2c9fe936689446_fccid', '808f7a5dca7e0e81_fccid', 'f4102111ed32f7f9_fccid', 'cfdc11e1a4b9fca6_fccid', 'b42ef962f301b07b_fccid', '5a1c15872d3d8c25_fccid', '7fb03b56a2dfa980_fccid', '1fa48e18478a155f_fccid', 'd8d1f22735f9b962_fccid', '398d2a8083bacc4c_fccid', 'e873af960ae2a96e_fccid', '1e686166d30fd118_fccid', 'a999fb34200637e7_fccid', 'ce962399b9a3b998_fccid', 'b65beeee388a2d62_fccid', '4c7dd67c1986cc01_fccid', '4bc45809dfd991e5_fccid', '41bb7eb0612bcc04_fccid', '6c6e5152265c7595_fccid', 'de57ef2963876637_fccid', '5642ec147f59ae1b_fccid', '7c8c59ec56bbfabc_fccid', '54de6cc608c6ad33_fccid', '59d87281c11dcbbc_fccid', '9cb69b6d886301e3_fccid', '188be042a58efa2c_fccid', 'd9dc95fa883c45bd_fccid', 'd6480b8e776b6e00_fccid', '223b4c82fe6f8da9_fccid', '9f69f498ed771cc5_fccid', '29519fc661388d43_fccid', 'eae081e38a4136fd_fccid', 'dd900df45fe03ea4_fccid', 'e67b8ffba61a4f50_fccid', '01aa3fd02a66fc1d_fccid', '39c29ff7e43614d0_fccid', '936c57ed28e64b6e_fccid', 'e407ef0f629ef3a3_fccid', '0c01e4ad32421385_fccid', 'f7073e5203088d8f_fccid', '890e79dd572e47d9_fccid', 'e1e65fdbf27dadc1_fccid', 'b561c0a58826534a_fccid', 'e035d899bea37d4d_fccid', 'c62730ff8dd3076d_fccid', '39e8d82af42d9dfa_fccid', '372c783eef3c398d_fccid', 'bc4fd3a0db5f1792_fccid', '4de5530e32b3a8f1_fccid', 'f51a80a979a465b2_fccid', '37957f430a54a6d2_fccid', 'd304c0eeb5beecbb_fccid', '1cfe3aa1933eb661_fccid', '49847b8b088244a7_fccid', '5ecf71c3c18dcf52_fccid', '21e8263b7814e726_fccid', '99f56742aad10da8_fccid', '10cc46526006c085_fccid', '4ebc4c8db592e653_fccid', 'd749e11ccade7619_fccid', 'c9e65c83673ba513_fccid', '064f745bb5631f9b_fccid', 'dea24da8e5f7db7c_fccid', '1ab12a1648abd7c8_fccid', '9dd1a7076e7525e8_fccid', '04817d18faa6531c_fccid', '0d1b6811b1a0f1c3_fccid', '4a85d26da8704d06_fccid', '45e49a7acfd946c0_fccid', '632ac322a23b9e0b_fccid', '4c45b7305bbb8770_fccid', '952b81cdb65910f4_fccid', '3b6b3b3c2f8c2675_fccid', '3a80f65a682f83cd_fccid', '00321a48d04fe754_fccid', '318963db09e2f4a7_fccid', '1858c5c64909e2b0_fccid', '66a8043c6d23373e_fccid', 'ca9ab4aae5478b98_fccid', '19c826e53834b058_fccid', '4f0d8fe3b415059e_fccid', '964ffdfa24c146a3_fccid', '56b7c53c88d358bd_fccid', 'eddc59ff0dd09c35_fccid', '34ba2c8c3260ea5c_fccid', 'd9ea3f36eb967f34_fccid', '5af3fe8069da81c9_fccid', 'a79b016f9e63a3a9_fccid', 'cd7b2c997014ebda_fccid', '0ee0ae6ba0ed34f5_fccid', '2b577c50a53aad34_fccid', 'a1ea69f05fcea532_fccid', '431ea045ec879f15_fccid', 'f1c76e46461d96e7_fccid', 'ec0b6107d49a9e0b_fccid', '054d04e709095c2b_fccid', 'a8a664ab4e354d74_fccid', 'fc4a7eb328bda746_fccid', '8884c5a3ba7e3761_fccid', '6fb00fef745ed162_fccid', 'd4b5a9b65538b946_fccid', '6e042e62414707eb_fccid', '60b859fd7afe6dea_fccid', 'cba29ba09c81bdfb_fccid', '2a0e76198b536230_fccid', '8de9ee37805eea2e_fccid', 'c44cefcc556fff1d_fccid', 'e8397bedcb064ba9_fccid', '37e54d38b5dc3331_fccid', '267e7cf7de2959c7_fccid', '73f9dfe83b556dd6_fccid', '67dafec654e7c111_fccid', 'a2f2f0dbf5817d51_fccid', 'a279347a9e6859ae_fccid', '667a0c26793eef75_fccid', '9a53a7cf74243ce1_fccid', '79c3bbf5e57db41a_fccid', 'b3f657159b95440c_fccid', 'e41443d3bc20e28b_fccid', '2257e2b9d2cb3022_fccid', 'ad12f415dc3e5e8b_fccid', 'af6a31da7a74b6ac_fccid', '7742aa3cb26b8bee_fccid', 'a993ff1a28793da2_fccid', '9f43077fb51d74d7_fccid', 'abc816859ac7d358_fccid', 'b04fcd896a54cac4_fccid', '42cc5e05a2814668_fccid', '5141331158ad3ba2_fccid', '23024b2c3e813419_fccid', '83e3f665b22e5695_fccid', '9d355c7b3c35b41e_fccid', '73f1c1c67f61ee9b_fccid', '66955c74ee339b27_fccid', 'ed271cc13fa94496_fccid', '6172582f734a32b4_fccid', '3b9725f6d2fe49a8_fccid', 'e5aa38eba5c3b8e4_fccid', '34c5fab28fa50122_fccid', '673cbc3a369e02e4_fccid', 'bc4af98337dfd21a_fccid', 'd829db07597e130b_fccid', '30f4b3fc42fce0da_fccid', '4dbfcbc74e2e5a30_fccid', 'f27521da38c0e2c2_fccid', 'ce76b0bca8bc3fb4_fccid', '29f2a5692884ee72_fccid', 'd186fd003c5d377e_fccid', '7a7a6c163f14ab64_fccid', '92b3776c33af25d7_fccid', '8e71656ab5867242_fccid', '1644e3ef52a7fff4_fccid', 'dba55d0d1bdc020f_fccid', '231f6807e11da902_fccid', 'd57e364dd4ae30e3_fccid', '270a1e50c5b22ff8_fccid', '67fc9b52946a25ed_fccid', '3588576103e31e6d_fccid', '5f1a25e9656078e1_fccid', '5238ae7b66e70830_fccid', '12f40aa019d3e9c0_fccid', 'a2813aedcda79913_fccid', '11ab5b64e12bb2af_fccid', 'ce46c6c11645c290_fccid', '56a3ff8f44685ab9_fccid', 'f11fd8210e88ee93_fccid', '71f92e76a465b50d_fccid', '85664fbf9b6faaf0_fccid', '555cd198fec22988_fccid', '2f21ed96647f1fa1_fccid', '1ef299b955b53f72_fccid', 'c36863e89adda209_fccid', '382205c83aed60e5_fccid', '83e2580b2f0fb1a5_fccid', '5fd3080bbb88502c_fccid', 'f3da022757d22cfd_fccid', '4d67456a1a14b6a2_fccid', '1c1ded576ec66f45_fccid', '76110569c4453cf8_fccid', '516e53e78d80109b_fccid', '2d86e608367c2926_fccid', '4e97c151cc30ceeb_fccid', '3ea40b802e91c181_fccid', 'e3760feb054e7de4_fccid', '9c2589e36b922ad1_fccid', 'bbdfa3153540290e_fccid', '84ea589ad89a3f2a_fccid', '337d57fac6400cd2_fccid', '83528d1648e45d6a_fccid', '4c4eea5dbe219011_fccid', '63baabd34163019f_fccid', '3a1cbca10eceb1e8_fccid', 'b0cadc08400aa1c7_fccid', '2012f9a3fa415571_fccid', 'e893a7fb794e6da8_fccid', 'e6324bb08b77cd4e_fccid', '8a99b344fb0759fb_fccid', 'b232f35c3552127f_fccid', 'e569057e7f99ea9c_fccid', '140b0a64a65a8be8_fccid', 'f2a3ac1365f46e4a_fccid', '995d8030d71a26ed_fccid', '7f9db8a7f6fe0207_fccid', '64a5810a8c86787c_fccid', 'a146948338c8d67e_fccid', '2d592e035bc11c24_fccid', '1fcf4a65bd9da593_fccid', '75e5ae4367b57813_fccid', 'a19a173d93f60634_fccid', 'ab86516ee1d019c5_fccid', '403a455bcbe133bd_fccid', '733a9389747bd6bb_fccid', '8ce8491c4ecf6b69_fccid', '0a3e1fcd0264cf9a_fccid', '81505152254a98f8_fccid', '9c1b6eb2d342cdf0_fccid', '417b72e3c8d4d5ec_fccid', '784daab47a352ed1_fccid', 'ac9308399dd565b1_fccid', 'f785db76d081bfc5_fccid', '330e9bac0d614eca_fccid', 'f9089e3103f1c409_fccid', '3f852f7a1a4e89f8_fccid', 'b4ba218155c2be3e_fccid', '747a26e4952dd8f0_fccid', '34cb6265a33472c7_fccid', '70344f4ca0b064a0_fccid', '52d6a4dd5975bf41_fccid', '10696f63a1cd372e_fccid', 'ab9f205d8dfa65db_fccid', 'e4a9a816b591210d_fccid', '94ca2e4102d732a9_fccid', 'ec4ed549901cd8d9_fccid', '6569b8fbf4ab530e_fccid', '1718aab9237e8f96_fccid', '16455c6b20d337b1_fccid', 'dce651a13a33e641_fccid', '79812bbda1e5ec0b_fccid', '3fe43010facd6001_fccid', '2b880d1c5395ed8d_fccid', 'e3dace0a6d3d630c_fccid', '69cbb1f21d10cd5d_fccid', '457c3f90df121c17_fccid', '6d2b72f9307b1295_fccid', '8ba1188a82b6d9fa_fccid', '7936d07eda0c4510_fccid', 'f73634fe3aec65ed_fccid', '7ad5e9409deb84c5_fccid', 'c5d92b138719400a_fccid', 'a98d9520539cf55e_fccid', 'f0b58acd16080cd1_fccid', 'a016e7a3bd2c548e_fccid', 'f09832212857f895_fccid', '5eda77f9fc519a31_fccid', 'e3dab82bce48571c_fccid', 'e670a5d69c4ab1de_fccid', '1329d356c58ed243_fccid', '7d92ac03ae40fbbb_fccid', '7184ee7926e95ed4_fccid', '7aca2d0370ea1b11_fccid', '37656895b590121e_fccid', '197da59b3b0f3101_fccid', '53382bae1f668382_fccid', 'af7a8336b016a707_fccid', 'c2fac811855f7809_fccid', 'f04e25526647d558_fccid', '246d04edbd40b608_fccid', '99f543eb082b15d0_fccid', '1bebe14559680b19_fccid', 'e51c24c6f02b9656_fccid', '9e40a4fde0c44f83_fccid', '922edd8ebd0c4276_fccid', '4d1eb766c210dfce_fccid', '200ba3791745929d_fccid', '3b92fa014420587c_fccid', '4dc539fcdfbeb4de_fccid', 'be3d5c9e7eaccaab_fccid', 'cac958b05762e6c0_fccid', 'db16bbe17b2c6e06_fccid', '83d53f533564327d_fccid', '1a4ecdbb24234d20_fccid', '57546bb73b988d24_fccid', 'bfe7f3c0e275513a_fccid', '94b86ea0bc7a8e2b_fccid', 'e2bb5d6d7219a17b_fccid', 'fe2838f305466298_fccid', '4c761eabbc0d03da_fccid', '7ebe97fa9ea93afe_fccid', 'eac5bb5d1dce95b6_fccid', '4a3ce7e422ef8d70_fccid', '2afdf54c472105e8_fccid', '79b31a9620acffa1_fccid', 'a7acbe86558f65ff_fccid', 'b36c081e42dc6dfb_fccid', 'f2fcc92f21dd44b9_fccid', '6e333b27d92cb37e_fccid', '05622250ca2f97ca_fccid', '5997805b465da573_fccid', '3820cb3051c0ef58_fccid', 'f5fbc92f86f38934_fccid', 'b9d73c777d494883_fccid', 'aa830022338a8af0_fccid', '67f90da6f58320cf_fccid', '19787351d1ef4c60_fccid', 'b5b3bc903e9707ac_fccid', '9ba3f7ae9ea2cb59_fccid', '5ca06c869a7cf321_fccid', 'e5c2794569941270_fccid', '28fc8475c7fcfcc0_fccid', 'b0e743047ca171e1_fccid', '1157ca2f0e5dbb16_fccid', 'ae54eb45ff521fad_fccid', '93f28a9036b209eb_fccid', 'cfe05369ba832f99_fccid', '936eaa3678932eec_fccid', '5b07cd3be54a039f_fccid', 'acfcc6e143d8eb92_fccid', '01bd31cf3814dee3_fccid', '7ac2a6dd1ffca117_fccid', '30726c460fe08da3_fccid', 'bced99bab8afc1c4_fccid', '70a2bb105e7254f5_fccid', 'e240cfa9d039bf89_fccid', 'eb6f15d6422eb50d_fccid', 'b6eef2802bd633f5_fccid', 'cf7c46569a8c0c5e_fccid', '259ffd5289fca87d_fccid', '5e69e3d194ab13d0_fccid', 'bcef184e72342741_fccid', '1155e2f8a95827a9_fccid', '87b855d0c9efd0fc_fccid', '08be917f002760ce_fccid', 'f2cf626a22027353_fccid', '0ec6e70f9a3752cb_fccid', '4e9cde400f988ef6_fccid', '86b8f37dffd9511a_fccid', 'c23f16733fdb9d74_fccid', '1cc352731f5e5a26_fccid', '3718a516169560a5_fccid', '55b355a8e7a75866_fccid', 'd6b9bc918bb47070_fccid', 'e2350ed22607a9d1_fccid', 'c9318f33512f9566_fccid', '4f1f34e05be5bcf8_fccid', 'b8479880869ef246_fccid', 'a4d2c4ae5ef80c98_fccid', 'b4181821281335e1_fccid', '170203f4c2b41286_fccid', 'de8265294e0557da_fccid', 'a30c464eb242c34d_fccid', 'a51575dd641610ec_fccid', '21b9f92d813273e7_fccid', 'e79cb285f5cc1c49_fccid', '2922c51dbfc916e3_fccid', 'e04e97593ceaf03d_fccid', 'cea97a9548587fa6_fccid', '0a9d8f4b50fd041e_fccid', 'b93f22984a9fc853_fccid', '0aa9e712a9ff1946_fccid', 'c73a76937d8a17ec_fccid', '6eecb3d1932cd55e_fccid', 'f942ea0d410cd066_fccid', '26a9bb2e0084f856_fccid', '8c5f41e23aad9ec2_fccid', '31674416f4ee6674_fccid', '52790a258fd8468d_fccid', 'd8fab8c9b0c4d6ca_fccid', '9e78f6a04c7c7088_fccid', 'bb962f7a72a72da0_fccid', '018866568cd5a0b0_fccid', '68491fc3249b46ec_fccid', 'e81203ca59acc6dc_fccid', 'a818bc6a488f97fc_fccid', '3f1ae83d94e448cb_fccid', 'a16b4cadcb1a1470_fccid', '0b9ab79c6dafb2c0_fccid', '2d35bd000fe21e96_fccid', '38c7c1fa3894c3d3_fccid', '3dab159a811f353c_fccid', '0f18a51c907a05bf_fccid', '1bbd185747ae87ad_fccid', '5ad1f895aff1a7bd_fccid', '609220830e5a3eaf_fccid', 'ef6ddd72d28902eb_fccid', 'd1aac424aa1a8a50_fccid', '720cd93cfd4b365f_fccid', 'd6a5c23db38989f5_fccid', '8d4d76923b32650d_fccid', '79b9aaafe5ce1cd1_fccid', '07c5ef8930178c96_fccid', '8e5af777093d5aaf_fccid', '544e4e237037a383_fccid', '913ee2af56c55f13_fccid', '14fc0fb5060f54da_fccid', '21c25c983adc504c_fccid', '4a6182466d497e65_fccid', '80ef4d1dc297049a_fccid', '025f464c00c43f58_fccid', '1a1ac0a0ea18f677_fccid', 'aa3a337fdceb63f2_fccid', 'e5d21a0431f3555f_fccid', '1de6a9e3c3eb1a37_fccid', '24a9f970ace56f01_fccid', 'b256e29094239553_fccid', '3e0a3ff1df6a7f70_fccid', 'e9d5bf58074e942f_fccid', '98fd7c6709a44fec_fccid', '85df9b29fab75d77_fccid', '5d01fc3bfcb8f20d_fccid', '59201f1d99797458_fccid', '1bf1c59ae4f26c0e_fccid', 'fb8aa7b9d78ddeab_fccid', '54c2a12cab58f1e2_fccid', 'b9d8e3dd396196c4_fccid', 'e8d9543fc8254798_fccid', '4120d78e6349d7d8_fccid', '8aafdc4c7c7cc084_fccid', '8dba42410523b37c_fccid', '3181629c413dd04e_fccid', '28d330f60689bdcb_fccid', '4b13ffbd35f56cf5_fccid', '98d20dbc4888d64c_fccid', 'a031d23b8c3f6c4a_fccid', '833fde302017d4d8_fccid', '33a88ec3ce60dae5_fccid', '85a24b62479fad81_fccid', '5e87015b74684c61_fccid', '7a440ff0d3a1fb19_fccid', '242bbe38bd12e721_fccid', '4d46686a73574cbe_fccid', '8b9d80be9a971078_fccid', '172bc94613e1f42e_fccid', '1ca9beab05c7fa6b_fccid', '6758d113db0d432a_fccid', '9fa9ebeb188698cc_fccid', '5bb5a778d76cfd22_fccid', '84d3a4a1b825030d_fccid', 'c7dbf3cbad217ed5_fccid', 'adfe6f06b12acb01_fccid', '1e7b256fe3ed8491_fccid', '8be062b5cc940a17_fccid', '42e33ef6016cabe8_fccid', 'fc4bef82f5ea2f9a_fccid', '7a35d1b7779e0170_fccid', 'c7e7f1c4475e4ea4_fccid', '84ac47954ae52c40_fccid', 'dca5cb33ec9b2339_fccid', 'ef7046b5961f249e_fccid', '4d42681cf9585bb7_fccid', '9b21751d4943d7d9_fccid', '8aa84c242a48f751_fccid', 'd62ceae4b67f9474_fccid', '231f53e313474742_fccid', '176fdee1263ec1eb_fccid', '073776d12c6a7644_fccid', '81787fb0dcaa3bec_fccid', '54a1e1f8b0f9110e_fccid', 'a611bfc177bdebc0_fccid', '66e03c3d7c9e4a92_fccid', 'd96f32ff456409f4_fccid', 'e39efeb75bc873c5_fccid', 'aa9724a64d565b3d_fccid', '6941574bfc4cd9f4_fccid', 'e296e2aea1001038_fccid', '2d99a21cdef0298b_fccid', '4068926239bcd32d_fccid', '962cee647c93bc28_fccid', '9812a60323a1d008_fccid', '0dc993df8e337e05_fccid', '39e55e5c319077fb_fccid', '6e6400a4eed09098_fccid', '3afa4b5a60bab58f_fccid', '13e20f2d1dc7747e_fccid', 'f49a37177defee7d_fccid', '685f06ef5155034f_fccid', '06fb015837858542_fccid', '21d4a6dd03622e09_fccid', 'e63ddfea87c5d903_fccid', '66a9497efb891c71_fccid', '5740ddeb1b1fc807_fccid', '3827f447eb62cecf_fccid', '0902c2b9d57bac44_fccid', '8b71d2fded591a19_fccid', 'f6130d1ee9dffe42_fccid', '4f11ca110c32fce1_fccid', 'b0abddd94368876e_fccid', '71c437dcf4923574_fccid', '57db65d33020166f_fccid', '0fddf3bca65927ca_fccid', '311a44dba7d339f1_fccid', '996a77e8b4b00c1f_fccid', '47d13a4f72e95328_fccid', 'f41a6612c58a80da_fccid', 'fb17842d02292e83_fccid', 'c000499dd9f2d642_fccid', 'cb9c4e308304e7d8_fccid', '8ee68369dee5b59a_fccid', '85f95c9b6d5a2858_fccid', '7ceaada38aa7f665_fccid', '7e24de35ac6f4158_fccid', 'faec51647e646a88_fccid', '3de1db6451a661e8_fccid', 'f9453f6867beb01e_fccid', '5a34931843caa689_fccid', '284b64515c71fda0_fccid', 'dccafcc68ca2604a_fccid', '3b2bc1ad8d0a664e_fccid', '1d20219365eb80b5_fccid', 'e59282779a8fd487_fccid', 'd57c2ecf28d37921_fccid', 'cf9c254a62222352_fccid', '7b62436d86347e82_fccid', 'b6590ace79f97088_fccid', 'd3eddd650b52afa5_fccid', '6e0fc8fa33a5bc65_fccid', 'c08a876a9f2bf7ce_fccid', 'b9eed2e39391c870_fccid', 'b11e828d7fca6ff5_fccid', '3e4cd2a7e6f28857_fccid', '292f371128334a5c_fccid', '73f482c7ec0100a7_fccid', '95d6cef82471f3b6_fccid', 'ce2f028a3ae7d959_fccid', 'b4afc31f74068d11_fccid', 'eae6a77e92c0c905_fccid', 'ac94ef7b1f624c7e_fccid', 'd58d003e7fea3707_fccid', '04186a90ce9af7e3_fccid', 'ac468911644c8bd4_fccid', '81a6f413982ae089_fccid', 'da99221f19f5943a_fccid', '9127e183e6b2e719_fccid', 'e522b972d4e25e73_fccid', '43dd88e23c3b509f_fccid', '53402d0d3156d2a5_fccid', '757cb0d3849d0570_fccid', '6ccb22e92f4c5c8a_fccid', '4db411b0ea1e8e33_fccid', '70ff1a8174eaf3e8_fccid', '471399604a7d32d8_fccid', '007d9d7b5c09d820_fccid', '4f726bcedd87d9a3_fccid', '0598b7efa8b53aef_fccid', '7801a721ed77f806_fccid', '511353d381dde347_fccid', '95e29f795e427bad_fccid', 'd6fb2c3175dac181_fccid', 'ea8ca858cb88cf60_fccid', 'a97d6d566acf0d1c_fccid', '9cc7db5a22a76a2c_fccid', '2587c9bc6f68857c_fccid', '084a4490443dd8df_fccid', '1c8576530dcf26f0_fccid', '9bad5130445c4e63_fccid', '99129b4fc0b2ade0_fccid', '21ab98decb1df9c6_fccid', 'fd86dff3ba3f4abb_fccid', '106a3df3c47f4547_fccid', 'a71a563729f2bbdf_fccid', '8f7fa20152756b23_fccid', '7234aff40619c994_fccid', '5f700bf168c15336_fccid', 'f0d9ab737db4e7ce_fccid', '5e4b331354bcdf4e_fccid', 'a72045f7fe0884e4_fccid', 'b56c957a46a2a7ea_fccid', '3d9ff952a5af1bc6_fccid', '2efe40d815e4bd1f_fccid', '032a60df9899fe1c_fccid', '97a96f3bcaaf9427_fccid', '4e0cfc0236bc63e1_fccid', '26bf4dca593a0482_fccid', '0125eabc844281c9_fccid', '24f8532dfdeb8f5b_fccid', '6cf5d1477b5a81f1_fccid', '28987b664990906f_fccid', 'f5a9e63e0caea736_fccid', 'aa9eb739a9c02c68_fccid', 'db042b9e3ea1a7c7_fccid', '971a316499ccfc72_fccid', 'ff81a90403a3f37e_fccid', '3ab68716eb043585_fccid', 'd7b42b3957a30ddb_fccid', 'b78d2c08649e79a1_fccid', 'edf1dbbea28cb6ea_fccid', '6dbe1d5a7fef1d6f_fccid', 'e2d1b869fec09fa6_fccid', 'b3b2c39a09777cf3_fccid', 'ff0eb6d0b4da2289_fccid', '88d6b4d06d76097e_fccid', '0af867267ad42e1d_fccid', '84b9e6bee204e19c_fccid', 'f92d77fc0e7b0691_fccid', '2315417d4cf46a50_fccid', 'a71139883fb9a660_fccid', '4a49ad4b2bcbd4b2_fccid', '85c5b54cf4fedbb6_fccid', 'a37a4ad6a09a5f15_fccid', '0d20d59bb0b52bc8_fccid', '324a20efedb22a53_fccid', 'afb9bc6c81b23e4d_fccid', '1a2b4aa11ac60426_fccid', '18eba1da4742b7cc_fccid', '3848a1b91befde7e_fccid', '0f2b35757349c94d_fccid', 'c8dda197f0c6e06f_fccid', '06d49f8db79069ea_fccid', '246a44126df7f931_fccid', 'f153a9aa0bae6cd4_fccid', '3f7418384ba3940f_fccid', '62670fcf87f91d96_fccid', 'e1566aff40a2cbec_fccid', '603b0ccb3d2be09a_fccid', '0945dcc894c6c664_fccid', 'c3a86569fa28c08d_fccid', '159b92123a8cbb44_fccid', 'd5084e07b08d8382_fccid', 'af8f40763e34374c_fccid', '30af8c722a93ceaf_fccid', '2678afc382ce97f9_fccid', '2a20c782916d6f23_fccid', '863e5a7c5f6e548d_fccid', 'b26478cdee070f44_fccid', 'b9b50ed45467be92_fccid', 'fab3c65aff0b20a5_fccid', '34ece1a36f4f2c9d_fccid', '236d1592bccd1596_fccid', '199dd429fdcf76b8_fccid', 'd7895f9a3165e1da_fccid', '8e58187c3f403d1c_fccid', '3544bbc8f9900976_fccid', '994235d333d5d931_fccid', '5e0971336bc6f93e_fccid', 'b469119383c80b4c_fccid', '852bd556969af138_fccid', 'b6a578b78f9fb644_fccid', '87e2419c989517ea_fccid', 'e2d0ab71a8001920_fccid', '4be3251985c5e00f_fccid', '92145f1578ded3f9_fccid', 'ccc7c8850887a44a_fccid', '835a77d4726905a4_fccid', '17fdb7dbc73a3af2_fccid', 'af43c615d3e1af72_fccid', '37e9c966ac4c1056_fccid', 'df1696c67b2bb790_fccid', '117fdac717d768c9_fccid', 'db4efc1d24358d0e_fccid', '606da40a67a98bcf_fccid', '55b74e789c90b5df_fccid', '14792fa5b0b9b943_fccid', '473b4c0f1dc1979d_fccid', 'bb711590271eafa5_fccid', '8c6d83f343b2141e_fccid', '773e146cc501c364_fccid', '8e9a83af86f183d5_fccid', 'e152f61881358ded_fccid', '2b0a3d6ab6920dd2_fccid', '7c930e87bc4d9ff5_fccid', '2b41bffe7999af36_fccid', 'f0efa7dbaea86c8d_fccid', 'eca530cdc5bae1e3_fccid', '7a52ff213dfc10c7_fccid', 'e860b53ef6de4554_fccid', '365fa2410e58118a_fccid', '84e35df8d8ed697a_fccid', 'a6f7933fb8a2ffb1_fccid', 'bb2cddbcb5d8daef_fccid', 'bd4bace772f8c6a8_fccid', '2e3f35424c7899b0_fccid', 'cf24c2a4a5a3ee4d_fccid', '6e286d9264efafab_fccid', '5305c65efd349c0f_fccid', 'c49bf5a9b76b6943_fccid', 'eaba59290c7be579_fccid', '330cdb755eaa9882_fccid', '75f326050b1b7c10_fccid', '45345be501062dd9_fccid', '28d3791636a50799_fccid', '742cf8de03c9ae49_fccid', '3010226c7149a4f0_fccid', 'd40310b37be4b2ce_fccid', 'a6ec27672ae68532_fccid', 'd51640d8d98bd185_fccid', 'e36cd1402c047bdf_fccid', '4cfcccc44546cca0_fccid', 'c1753c9fbddd007f_fccid', 'b8fdad9355ae03f4_fccid', '5bb3f5f1965cb7fb_fccid', '5745401425aa1cff_fccid', '6bab4f69be84db89_fccid', '0a722717f6e5c86b_fccid', 'ebc52ba388dc4cff_fccid', '0410b4cd5db34fec_fccid', '48c9cabdf8acf764_fccid', 'fde06db7e180725a_fccid', 'dc61ea008578e201_fccid', '197aedc9bf6a97fe_fccid', 'bb46e8da979d9906_fccid', 'a43053c71e706af0_fccid', '69bf0292975879fa_fccid', '0a227e938be795bb_fccid', '6af98b39ccaaf1b0_fccid', 'd8786aa78d2b7f04_fccid', 'a49a48511ab06643_fccid', '811c7dce4feb994d_fccid', 'd643fceedf7ab8cf_fccid', '15772629d1590317_fccid', 'de8e71c84787c8b2_fccid', '21fd63ec0bf10a9c_fccid', '27e25a8969ead282_fccid', '7e73af2f248ab531_fccid', '8f59fc457384b75c_fccid', 'a0a06a12d63bc8d9_fccid', '47d58ebb9c6574fe_fccid', 'df0282d59eb50b88_fccid', '4a66d527c9dc6a33_fccid', '22ec0d056a58a782_fccid', '9efb6f0e4f931bae_fccid', 'e93944548ceaf18d_fccid', '0c498a24a2625506_fccid', '5c32825474e5de73_fccid', '1fafba7825a64bea_fccid', '20f5c186ec6a0478_fccid', 'f1d3d89c3ca75c7d_fccid', 'c9489c4196fcbd63_fccid', '7b03450d50b16f06_fccid', '57957c02f0e94c5a_fccid', '2bfee71a0b52aec9_fccid', '4334d4f7380f1be3_fccid', 'b34b2a351b6d5341_fccid', 'ae80ea280e47b07d_fccid', '4b4ac81b9d40ff03_fccid', '2e35838a2695eeac_fccid', '82afa910a2577a6e_fccid', '5b97c69d416ffe00_fccid', 'ea714c1bdf74bdff_fccid', '9fbd32a05e51b088_fccid', '1636faa0308fd08f_fccid', '72435f49f9f550ef_fccid', '079c06375895f02e_fccid', 'bb20c534a997730f_fccid', 'fce5a384faa51e2e_fccid', '23ae8d19ffde4231_fccid', 'f81ccf9d3218eed3_fccid', 'd827816a6c40638f_fccid', '0e6e594f3551049b_fccid', 'c7bc464b7dc4ed24_fccid', 'd2e8c1c86859cc8e_fccid', '4b5a269292abeac1_fccid', '_p', '8827e89d641277a9_fccid', 'b8edaaf7395315ca_fccid', '5296567adf37120e_fccid', '13c2c81ce7b5a63e_fccid', 'db7e347ad42e58fb_fccid', '7a39ad181827e170_fccid', 'b6963c644e3ecddc_fccid', 'fc9a3ea9358239cf_fccid', '5a817718e8ed43ed_fccid', '624c6d38e38e1ef4_fccid', 'ddc708686c096106_fccid', 'e15d058a38bc2073_fccid', '2fa92be11aee9d4d_fccid', 'dd5dabecd250fd8a_fccid', '813e38e1260bfdfe_fccid', '570bfe5aaa881f83_fccid', 'dfa134c6b3e12dcc_fccid', 'f4078d9b49d8123a_fccid', '7147355bf2db38d2_fccid', '08a5c0929efe96a4_fccid', 'd8ea894d611704f9_fccid', 'd7c3d446ede6e5d8_fccid', 'b8fbdb63b950ccf1_fccid', '6b765e5267943c64_fccid', '6aee8c147590511e_fccid', 'd991b7ac6156bbc3_fccid', 'a574e26cf7375080_fccid', 'e2ec53f87e3c8c5c_fccid', '5b38d9e8accf7b3c_fccid', 'eeb10968747ffb0f_fccid', '991f862a2f3df88c_fccid', 'af6e9e4d7d155600_fccid', '382fdcd6c9170667_fccid', 'ce1ad7446f65ee00_fccid', 'a1d296e3e3822f7a_fccid', '993cabe47105b4df_fccid', '1877887ff3decf95_fccid', 'b63c2c689d38d2b9_fccid', '72ac09d6947fcac4_fccid', '55143c3b81950196_fccid', '85555e69b9e350d4_fccid', '54812e562360debd_fccid', '6eeca2b0ac3f9105_fccid', 'b0ebf2d987c3e5f6_fccid', '4bcbd09cbdc2f7ab_fccid', '1cfe22aa6cb9721d_fccid', '5cd74a44213eb3bd_fccid', '84c30fe5e0ac8ce1_fccid', '18ceaad4b9aa1a8d_fccid', '07d4ed2f644971ad_fccid', '70d4373928bfaa5c_fccid', '6a756a296dec28fd_fccid', 'e5d505bd4b37baba_fccid', 'cd53b59933db2b6a_fccid', '802ccd3e74cb1574_fccid', 'a7182d43f60e532b_fccid', '6d0868224fd2a2f0_fccid', '4a72844a068c489e_fccid', 'afd3016b5d3c707f_fccid', '9ed0e14aee013880_fccid', 'd841f1f129460ce0_fccid', '0537cc057dc3fbaf_fccid', 'e631e2689668e477_fccid', '6143b2858abed0aa_fccid', 'dae4146bb7474fad_fccid', '83153a99a2e59ba7_fccid', '09b405a07dc2ebcf_fccid', '670794b5acd0c604_fccid', '63cfb6d10a4da16c_fccid', 'b1f538fc9205b033_fccid', '5c053b7debcd942d_fccid', '8c0b118e9d7e9298_fccid', '3c5001d4e1edc69b_fccid', 'd91cc371dc2c1d1a_fccid', '3fb2ca328e33135a_fccid', '51aab4724bb38ada_fccid', '691410dd2ca5f8a8_fccid', '3df7d5090e5d4368_fccid', 'a062d8d5593540ad_fccid', '1efd04e75c430a47_fccid', '147610fd5e36df21_fccid', '561ad28d337f3325_fccid', 'c7271b7ed6cbef5c_fccid', '7fdcfc6a40a67922_fccid', '85171a0feb34c38a_fccid', 'dbbae858bb0831b8_fccid', '50feb924160cb690_fccid', '1f7e7fe3c30067dd_fccid', '257c161b1dc55662_fccid', 'ced30634866c407c_fccid', 'c7dac41d8e0def2b_fccid', 'b980e8d7521d2e37_fccid', 'c8995ab3489515df_fccid', '8ec649394176a37a_fccid', '307a530517cfa163_fccid', '11baba484db23433_fccid', 'abab27113a3f8385_fccid', '2563a48bdc893403_fccid', '7c36cd38c5ecd578_fccid', '22ec5abff932581e_fccid', 'b49d93666899896b_fccid', '1f191274659a8382_fccid', 'cd242565218ecf56_fccid', 'c92a6fbc273d30ae_fccid', 'a033de7217466e1b_fccid', '61595a0d07b3c54b_fccid', '279903d429822a31_fccid', '9887198277b281bf_fccid', '16e62c7dc8d15731_fccid', '39c7e52b7f2f10f3_fccid', '66ed5f175fe8a0ce_fccid', '79f708c2e52b35d7_fccid', '92d6232af198412b_fccid', 'd3bc4154261e3087_fccid', '43b5749675ce235b_fccid', 'fd5c88c3fff4cf81_fccid', 'a5e58eeb77b4acb8_fccid', '98545ca0ce17b6ab_fccid', '12ac213ffc329561_fccid', '06f4f89b2121d668_fccid', '0b825aacb2819412_fccid', '853af841e4457a93_fccid', '528630d26676273f_fccid', '6b3083de64d2a9cb_fccid', '43c1221676bfdb91_fccid', 'e4e1d4d1eb65e60d_fccid', '07fbbd21de9b9a36_fccid', '88088691f91338fc_fccid', '7b5cbb5b54a2aa2d_fccid', '1657f3a28d8570cd_fccid', 'a31740eac2b44a9e_fccid', 'b8a81f5a7b0399c5_fccid', 'ad01778ed0944b8a_fccid', '9d2594e8bb6f6d5d_fccid', '9db16f07b096c469_fccid', 'a5a17d8ae9c02995_fccid', '9f57934e7b0a76db_fccid', '94a1b0abadb0b94d_fccid', '68b9253167629155_fccid', '28baa7cd8c5199a5_fccid', '21c7c8434e17143a_fccid', '240c3e429d07df45_fccid', '46f696cecb6dea48_fccid', 'fc6c6d5319262018_fccid', '2caf65cf1b8495ea_fccid', 'fd04b8a2e7ca3955_fccid', '5ff80403645bb46e_fccid', '551b276663e03b55_fccid', 'ce5b7d0556c5eb11_fccid', 'f760036e4f12e596_fccid', '41181d07cc124ae0_fccid', '0079c11b2611349f_fccid', '4bcebc2d155d3a9f_fccid', '6826cca517db957c_fccid', 'f443db701f134e63_fccid', '3c6bbbb3d4e780bc_fccid', '0a518d7e56e7635e_fccid', '27e897f0b7a6f69d_fccid', '97d4ed40e14938ef_fccid', 'a1d949a71fe0ab4b_from', 'a509186740d0a802_fccid', 'f4a25ad785ff1e3e_fccid', 'afa51ff9090b4ec2_fccid', 'b5243491dfbf94fa_fccid', '4d8ef3ec26ad0198_fccid', 'eabcad1f8af00285_fccid', '6acf54368233122a_fccid', '3e78cc0899321cdb_fccid', '2890420f10c89ae8_fccid', '014ae4dbded805d2_fccid', 'd4741f73485ccdb3_fccid', '38e3c610ef54ce4d_fccid', '23d6d7656c078165_fccid', '5df153cda190c7e3_fccid', '741e07b3af1c27e1_fccid', '965282a78a7434cf_fccid', '368f6c6137b259e5_fccid', 'c66d957b740937cd_fccid', '5c6cc900a81144ac_fccid', '190bc2fbe049b1f2_fccid', '50639e6bc1a23676_fccid', 'f5c63292c5943c96_fccid', '2fd87954bb4b2ad0_fccid', 'fee42538d4a7bb9a_fccid', '2cb5a41aafebf8c5_fccid', '631941f2caec9c61_fccid', '87c55c3fad635a80_fccid', '6c7a836d987c1224_fccid', '0f296522af3385ec_fccid', '09a172128613e815_fccid', '5566e10e036d989e_fccid', '81686d429970aa44_fccid', '3c605df8cb93cbd5_fccid', '813cbe25db81910c_fccid', '2116e1bafba92513_fccid', 'f96b5907888ed2fd_fccid', '4e7a9224c28a6822_fccid', '65e6e1c343521afe_fccid', '7688bf23a4e8e7c6_fccid', '4145274d0b8bbe86_fccid', '7ec1265b4d10153d_fccid', '172c896b81d8c138_fccid', 'e3eb98b15f904823_fccid', '1e7f1707d5382fe8_fccid', '355ce4859097ca97_fccid', '6d936b7369dfe0b4_fccid', '5ba21b2db576164e_fccid', '9749833517bf1e51_fccid', '57fb6e96a055cbaf_fccid', '59942e01240b96b3_fccid', '2f40307f15f33076_fccid', '6bb4f3cc9ab6a50a_fccid', 'a5ff44c4969b520a_fccid', '1fc529f35001d18f_fccid', '0b9ea2fd6760e93f_fccid', '8d51798afdc418c8_fccid', 'c7d3f4adee9888ed_fccid', '9e349b9dee710567_fccid', '65ea5748257bcbcf_fccid', 'b5ca9128f49cabbe_fccid', '24a92a727ecef9c2_fccid', 'b3970acbbafe4303_fccid', 'a4cdf31a82d9c549_fccid', '4a550147c9332b73_fccid', '905ed810a40c9bb1_fccid', 'd54b204e76da502e_fccid', '815b318dd13c4444_fccid', '89c98a8bedf30b29_fccid', 'b0f3d27331ad0fb7_fccid', 'c647eb5cfb5e1670_fccid', '001b92395ed0fb62_fccid', 'f4139e5101d3d3e7_fccid', '7096180c6934a382_fccid', 'e27fc813835c382b_fccid', '351c867a43ee4db5_fccid', 'cbc691f6651a1435_fccid', '0c673d4dd5c3d7a6_fccid', '4eb2d96bd560f444_fccid', '5bf9d8f44a133eaa_fccid', '6409287a2d177f04_fccid', 'efd86d658fba6b5f_fccid', 'b41ba70677cff1cd_fccid', 'a973456cb359e019_fccid', '4c5d7d4972a46f98_fccid', '926dd8115cf6cecf_fccid', '1429f3ee5730607a_fccid', 'eb7fabccb8e246ef_fccid', 'd0f738b498a8c7db_fccid', '15ea1bf724360627_fccid', '95bc994e82954473_fccid', '35bd3f0fd5087920_fccid', 'f97a59f614d0c315_fccid', '531bb06027df3f7c_fccid', '1e561381f5fb4ce7_fccid', 'be5c82bd189b794c_fccid', 'eec5e778410ad0d5_fccid', '38527c8a5b5570a1_fccid', '5b1316f77b209c55_fccid', '806dbbd11079f4ce_fccid', 'b44b09c3d4f59868_fccid', '8fccd5560141cd7c_fccid', '0179ea131f141400_fccid', '99e29ff9793ef497_fccid', 'adf6d425216658e6_fccid', '93e0a5f796e8e1c0_fccid', '4cfa9dd5ae3993e5_fccid', '9b74c0dd725746ab_fccid', '77da4e07dda1d1d0_fccid', 'fefb9642ac28b85e_fccid', 'b529edaa03cefc35_fccid', 'f4d7032f0061044a_fccid', '82217204f24f746d_fccid', 'b299ce96f90b5dcb_fccid', 'e066775de58ede0f_fccid', 'f59079301d05a7b2_fccid', 'bb6b3b392d05bcc4_fccid', '614884d78d132f68_fccid', 'e71edc49797c7ce2_fccid', '2908dca57a2450ac_fccid', 'cd356180d96f0557_fccid', '0d64b53942bf4d38_fccid', '260c13820dbd4c63_fccid', '324e7299de7a26ed_fccid', '8ba268c71c89c2ec_fccid', '1356a4d07db75a0d_fccid', '70adea5f1df3ff81_fccid', '6dd973b4a78c2c37_fccid', 'd0417e8d5ed8f3c2_fccid', 'f1558ef058b26b85_fccid', 'be2ef9348eb61aa2_fccid', 'ba2d2f258d7ec7cc_fccid', '34daff62bfb450bd_fccid', '22217864173bbc39_fccid', 'c39dacff38327aa3_fccid', 'c2853cec5b402db8_fccid', 'a1d949a71fe0ab4b_fccid', '802cb70fbea6cb51_fccid', '9d30ea1776ad783d_fccid', '66c2c02452cb15ed_fccid', 'ecd08eb71e35f8b4_fccid', 'c5d15d08f2b5b30f_fccid', '496c53c9e9719b75_fccid', 'a64b354b9e663168_fccid', '13c9ffc0bcb07c8d_fccid', '8a57ec38468f3689_fccid', 'fa5cc99f9075aff3_fccid', '4544c30fb3f4f5ae_fccid', '309b32d61c0e7317_fccid', '271a4d574dba3beb_fccid', 'cb8a5bce330854e9_fccid', '49f85c468f4849f5_fccid', 'b672827e595ad0f4_fccid', 'f579e807b5804620_fccid', '05bbd20f59b2b295_fccid', '63031f6bc07bda88_fccid', 'd69aba25d9c0ecbf_fccid', '5cca03b0bb1da997_fccid', '837c3926ee0400a4_fccid', '1e92960a19ffdd34_fccid', 'a3a91bac0981aa99_fccid', '84f76ff2786d57c2_fccid', '3157fcef3ee474da_fccid', 'a559b6630c13783d_fccid', '3842863b278d2981_fccid', '7b7ce69f70e8d03d_fccid', 'ea487254a487beb5_fccid', 'b423ca22a6e2c10f_fccid', 'c6b0593e41e56f1e_fccid', 'a87b4417ab091f88_fccid', 'e1d47f335477b532_fccid', 'c02d510f93417915_fccid', 'fb2912f036afd8c6_fccid', 'f4fbbee62edb5453_fccid', '2ac183413e3f4e3d_fccid', 'a452bf259add3dc2_fccid', '313d64f98acae548_fccid', 'de929f0046a05d59_fccid', 'bb0266f0887d9c8e_fccid', '7c6f0c606db7ebc0_fccid', 'a80f79780d496710_fccid', 'f9afb21b4a0dca74_fccid', 'e3c6622f84147e44_fccid', 'f7d80206b7cd0e08_fccid', 'fe385aa11883568f_fccid', 'e9af75bf5684dbe1_fccid', '48eb9d0a903a4218_fccid', '0df69399532df243_fccid', 'c2ebc595d078b0f7_fccid', '14daba261183a73f_fccid', 'a9c7383b8b7c097a_fccid', '5c81c5fa9891e57a_fccid', 'c0110393463b0e65_fccid', '6b040447f4ed4117_fccid', 'f7c262dc683ee682_fccid', '06a385f35dbe05a8_fccid', '8bc6198170f26c17_fccid', '2ac7029c835f1d14_fccid', '665d6be810bb9735_fccid', 'c5622cd831540f67_fccid', '9b957c77bb973794_fccid', '172155456db55abd_fccid', 'd07ec7c5819249b5_fccid', 'd82a670d90f4c43d_fccid', '3103e40b8a469c69_fccid', '432f50ebe5ceacfe_fccid', '7ba056b7c3fbf8e7_fccid', '7f255f64aa64f769_fccid', '27b96b36fa09f9df_fccid', 'fa9a55a5da854e49_fccid', 'bc52c06071141870_fccid', 'e9b28c2676540128_fccid', 'f0e056b9f375b020_fccid', '83cdc54124839f23_fccid', '0e5ad0d20c2e40c9_fccid', '616bcd17cb564d38_fccid', '41d38cfa6de4d386_fccid', '9be1fa8d8fc2499c_fccid', 'b678f3455712f237_fccid', 'a4ae108901f180f0_fccid', 'd2dfef55f8d8282e_fccid', '4f8df9ddc6e2aa93_fccid', 'c8432f8d3e894083_fccid', 'e48fd1b2b39aaa18_fccid', '9042480af958a610_fccid', '0cfd12bcc3976b90_fccid', '15e5f1349aa2526b_fccid', '0cdc002be4ed3a15_fccid', 'a52a1b6105fa1df6_fccid', 'fc5a07ecebf0a40a_fccid', '2d45c5b3a657c973_fccid', 'aad1220f512e83f4_fccid', '03b7844b77344288_fccid', '17a320fb30c7c7ab_fccid', '6f1f7eed1f3f4c0c_fccid', '1661aa9d550a0fbf_fccid', 'c8defececef0039e_fccid', 'e2141847bbb80fcc_fccid', '3512afef652e4ac5_fccid', '9463a94afa55d6cd_fccid', '4b53bf000ca326cd_fccid', 'ae22a79ebd83a237_fccid', 'deef568e04822e3a_fccid', '205162d27c3fb07e_fccid', '5471e975feee69b7_fccid', '32c74826ce45bd2d_fccid', '248fc4f77bcd6ed6_fccid', '263f803b8c22ea09_fccid', '36df0d30f9f3806a_fccid', '7b1ce1db247623a9_fccid', 'a34ef0276536fc4f_fccid', 'dce8795fc3c7e06e_fccid', 'c8df9542f1319b9a_tk', 'de64803d377bad81_fccid', 'b96714f93e0cc239_fccid', '20ff6e59e92414e7_fccid', '5cdb7955a68c4a89_fccid', '6ff9db3258497325_fccid', 'ae416685deba77b5_fccid', '9b11f1c9d2d3afeb_fccid', '61431af3a37e6c73_fccid', 'a958a3265868e47e_fccid', '283c3765132b5c18_fccid', '888438f7db57d265_fccid', '34cf297d6902134d_fccid', '30da93db73e95146_fccid', '3973c85acdf5c6c1_fccid', '229d54a58e52122a_fccid', 'cc6005a0d4b931dd_fccid', '104d2516da292ccb_fccid', 'e6557a1e5d1de625_fccid', '493e001589921d93_fccid', '0488045ed4473017_fccid', '3850bd8742a5e4d1_fccid', '407029e63a6217ae_fccid', 'd22db1af4993d45f_fccid', 'a7b737bed7287733_fccid', '03db5efbdebb59a8_fccid', 'c3cb2bcc1f4bb135_fccid', 'f44d760d71bc2ce5_fccid', '6bcbe2dd10af4e0e_fccid', '82c6e586c215cf71_fccid', '89f3deeb26f07b62_fccid', 'f664f8b4fe53f808_fccid', '142fb4a5703ac62c_fccid', 'a55b256d5a592bd3_fccid', '25d3528f03e77a6a_fccid', '2513f7ce8174946b_fccid', 'f78e412045e6684f_fccid', '704e3f46465a1378_fccid', '8179a173e187783a_fccid', 'c46bd9d5e51bd2cb_fccid', '728270bb6c2f93d7_fccid', 'a1c2e0d0835ecebe_fccid', '38d0d0904aa831cb_fccid', 'd05d67df757cee49_fccid', 'b0575b2717559a6b_fccid', 'e4f7f8d1e115ecd0_fccid', '1fe8542aea7dab83_fccid', 'e4afbccf0f154b1f_fccid', '09c19480dbe9952f_fccid', '23d9c7613df2edc9_fccid', '0203a50423c1dff3_fccid', '24ec6c8ea9208458_fccid', 'b21ee514f5e51b1d_fccid', '9759be8d1a8f8e2e_fccid', '85e423202bb2ca63_fccid', 'bb43659bcf7b2093_fccid', '365a8ef627416a3b_fccid', '52fa6cb3e1d843a7_fccid', '498ecab84d9717b2_fccid', '89cf067a914ba21c_fccid', 'a74cbd9c94a1536e_fccid', '0aeb13fdcb7d434f_fccid', '71a7e77480279ebf_fccid', 'ceb46a58d174010d_fccid', 'fae2d659bf165ede_fccid', '5fbe13e86041900a_fccid', '0a22c5c79af5fcf8_fccid', '28d1f60ff04cab03_fccid', '4a7894f539b77665_fccid', '62aab025760e67db_fccid', 'c0729f635933006d_fccid', '0ad57795afb714d6_fccid', '4514547a5630b02c_fccid', '6de13082ce783972_fccid', '66b5c95adc241590_fccid', '6aba0666a776f3f6_fccid', '9a9ace83a79759d2_fccid', 'c3cac496578fb850_fccid', 'cf1ff05ee5ccdb1b_fccid', 'b16865affc0576ed_fccid', '05e113c6cfd125f5_fccid']\n"
          ],
          "name": "stdout"
        },
        {
          "output_type": "stream",
          "text": [
            "\n"
          ],
          "name": "stderr"
        }
      ]
    },
    {
      "cell_type": "code",
      "metadata": {
        "id": "5zCOUeN7Y_pg",
        "colab_type": "code",
        "colab": {},
        "cellView": "form"
      },
      "source": [
        "#@markdown ##**Render**\n",
        "#@markdown preview the pages with the function lambda\n",
        "render = lambda html_contents: display(HTML(html_contents))\n",
        "display_test = False #@param {type:\"boolean\"}\n",
        "file_to_view = \"00321a48d04fe754_fccid\" #@param [\"00321a48d04fe754_fccid\"] {allow-input: true}\n",
        "\n",
        "if display_test:\n",
        "    html_contents = html_dir[file_to_view]\n",
        "    render(html_contents)"
      ],
      "execution_count": 9,
      "outputs": []
    },
    {
      "cell_type": "markdown",
      "metadata": {
        "id": "jryFwAfK65WE",
        "colab_type": "text"
      },
      "source": [
        "\n",
        "\n"
      ]
    },
    {
      "cell_type": "code",
      "metadata": {
        "id": "NNyyJYF5nPU6",
        "colab_type": "code",
        "colab": {
          "base_uri": "https://localhost:8080/",
          "height": 310
        },
        "outputId": "4c37e7e3-3375-490a-d8e0-7a290ff0d9f2"
      },
      "source": [
        "#@title Extracting data to pandas.DataFrame\n",
        "\n",
        "#@markdown *   Title\n",
        "#@markdown *   Body\n",
        "#@markdown *   Bullet points\n",
        "\n",
        "number_of_samples = 5 #@param {type:\"slider\", min:0, max:10, step:1}\n",
        "\n",
        "df = {key : [value.title.text, value.body.text, value.find_all('li')] for key, value in html_dir.items()}\n",
        "df = pd.DataFrame(df, ['title', 'body', 'bullets']).transpose()\n",
        "df.index.name = 'identifier'\n",
        "\n",
        "\n",
        "df.sample(number_of_samples)"
      ],
      "execution_count": 13,
      "outputs": [
        {
          "output_type": "execute_result",
          "data": {
            "text/html": [
              "<div>\n",
              "<style scoped>\n",
              "    .dataframe tbody tr th:only-of-type {\n",
              "        vertical-align: middle;\n",
              "    }\n",
              "\n",
              "    .dataframe tbody tr th {\n",
              "        vertical-align: top;\n",
              "    }\n",
              "\n",
              "    .dataframe thead th {\n",
              "        text-align: right;\n",
              "    }\n",
              "</style>\n",
              "<table border=\"1\" class=\"dataframe\">\n",
              "  <thead>\n",
              "    <tr style=\"text-align: right;\">\n",
              "      <th></th>\n",
              "      <th>title</th>\n",
              "      <th>body</th>\n",
              "      <th>bullets</th>\n",
              "    </tr>\n",
              "    <tr>\n",
              "      <th>identifier</th>\n",
              "      <th></th>\n",
              "      <th></th>\n",
              "      <th></th>\n",
              "    </tr>\n",
              "  </thead>\n",
              "  <tbody>\n",
              "    <tr>\n",
              "      <th>71a7e77480279ebf_fccid</th>\n",
              "      <td>Data Science Intern - San Francisco, CA</td>\n",
              "      <td>Data Science Intern - San Francisco, CA\\nJoin ...</td>\n",
              "      <td>[[[\\nProven ability to assume a strong sense o...</td>\n",
              "    </tr>\n",
              "    <tr>\n",
              "      <th>4b53bf000ca326cd_fccid</th>\n",
              "      <td>BA-Data Analystics &amp; Visualization - Houston, ...</td>\n",
              "      <td>BA-Data Analystics &amp; Visualization - Houston, ...</td>\n",
              "      <td>[[[Business Solutions &amp; Application Developmen...</td>\n",
              "    </tr>\n",
              "    <tr>\n",
              "      <th>1c61a9e892e12f82_fccid</th>\n",
              "      <td>Data &amp; Applied Scientist - Redmond, WA</td>\n",
              "      <td>Data &amp; Applied Scientist - Redmond, WA\\nDo you...</td>\n",
              "      <td>[[\\nSolve challenging problems at significant ...</td>\n",
              "    </tr>\n",
              "    <tr>\n",
              "      <th>b02aa271d2af7c26_fccid</th>\n",
              "      <td>Data Analytics Intern - Los Angeles, CA 90015</td>\n",
              "      <td>Data Analytics Intern - Los Angeles, CA 90015\\...</td>\n",
              "      <td>[[Manipulate, visualize, and analyze large dat...</td>\n",
              "    </tr>\n",
              "    <tr>\n",
              "      <th>e39efeb75bc873c5_fccid</th>\n",
              "      <td>Cloud Comp Engr Associate - Alabama</td>\n",
              "      <td>Cloud Comp Engr Associate - Alabama\\nJob Descr...</td>\n",
              "      <td>[[[\\nDesired:]], [[ITIL Foundation Certificati...</td>\n",
              "    </tr>\n",
              "  </tbody>\n",
              "</table>\n",
              "</div>"
            ],
            "text/plain": [
              "                                                                    title  ...                                            bullets\n",
              "identifier                                                                 ...                                                   \n",
              "71a7e77480279ebf_fccid            Data Science Intern - San Francisco, CA  ...  [[[\\nProven ability to assume a strong sense o...\n",
              "4b53bf000ca326cd_fccid  BA-Data Analystics & Visualization - Houston, ...  ...  [[[Business Solutions & Application Developmen...\n",
              "1c61a9e892e12f82_fccid             Data & Applied Scientist - Redmond, WA  ...  [[\\nSolve challenging problems at significant ...\n",
              "b02aa271d2af7c26_fccid      Data Analytics Intern - Los Angeles, CA 90015  ...  [[Manipulate, visualize, and analyze large dat...\n",
              "e39efeb75bc873c5_fccid                Cloud Comp Engr Associate - Alabama  ...  [[[\\nDesired:]], [[ITIL Foundation Certificati...\n",
              "\n",
              "[5 rows x 3 columns]"
            ]
          },
          "metadata": {
            "tags": []
          },
          "execution_count": 13
        }
      ]
    }
  ]
}